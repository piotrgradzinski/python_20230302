{
 "cells": [
  {
   "cell_type": "code",
   "execution_count": 1,
   "id": "c0b1b806",
   "metadata": {},
   "outputs": [],
   "source": [
    "import pandas as pd"
   ]
  },
  {
   "cell_type": "code",
   "execution_count": 8,
   "id": "3677e72d",
   "metadata": {},
   "outputs": [
    {
     "data": {
      "text/plain": [
       "PL     Polska\n",
       "FR    Francja\n",
       "DE     Niemcy\n",
       "dtype: object"
      ]
     },
     "execution_count": 8,
     "metadata": {},
     "output_type": "execute_result"
    }
   ],
   "source": [
    "countries = pd.Series(['Polska', 'Francja', 'Niemcy'], \n",
    "                      index=['PL', 'FR', 'DE'])\n",
    "countries"
   ]
  },
  {
   "cell_type": "code",
   "execution_count": 9,
   "id": "0193b4fb",
   "metadata": {},
   "outputs": [
    {
     "data": {
      "text/plain": [
       "(numpy.ndarray, array(['Polska', 'Francja', 'Niemcy'], dtype=object))"
      ]
     },
     "execution_count": 9,
     "metadata": {},
     "output_type": "execute_result"
    }
   ],
   "source": [
    "type(countries.values), countries.values"
   ]
  },
  {
   "cell_type": "code",
   "execution_count": 10,
   "id": "4e660209",
   "metadata": {},
   "outputs": [
    {
     "data": {
      "text/plain": [
       "'Polska'"
      ]
     },
     "execution_count": 10,
     "metadata": {},
     "output_type": "execute_result"
    }
   ],
   "source": [
    "countries.iloc[0]"
   ]
  },
  {
   "cell_type": "code",
   "execution_count": 12,
   "id": "4c8cf9cc",
   "metadata": {},
   "outputs": [
    {
     "data": {
      "text/plain": [
       "'Polska'"
      ]
     },
     "execution_count": 12,
     "metadata": {},
     "output_type": "execute_result"
    }
   ],
   "source": [
    "countries.loc['PL']"
   ]
  },
  {
   "cell_type": "code",
   "execution_count": null,
   "id": "53093d46",
   "metadata": {},
   "outputs": [],
   "source": []
  }
 ],
 "metadata": {
  "kernelspec": {
   "display_name": "Python 3.9.7 64-bit ('base': conda)",
   "language": "python",
   "name": "python397jvsc74a57bd040d3a090f54c6569ab1632332b64b2c03c39dcf918b08424e98f38b5ae0af88f"
  },
  "language_info": {
   "codemirror_mode": {
    "name": "ipython",
    "version": 3
   },
   "file_extension": ".py",
   "mimetype": "text/x-python",
   "name": "python",
   "nbconvert_exporter": "python",
   "pygments_lexer": "ipython3",
   "version": "3.9.7"
  }
 },
 "nbformat": 4,
 "nbformat_minor": 5
}
