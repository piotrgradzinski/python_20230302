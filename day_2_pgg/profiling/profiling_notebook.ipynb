{
 "cells": [
  {
   "cell_type": "markdown",
   "id": "2a949937",
   "metadata": {},
   "source": [
    "“The real problem is that programmers have spent far too much time\n",
    "worrying about efficiency in the wrong places and at the wrong times;\n",
    "premature optimization is the root of all evil (or at least most of it) in programming.”\n",
    "Donald Knuth\n",
    "\n",
    "- Highlight any and all loops, especially nested loops: the higher the level of nesting, the slower they often are.\n",
    "- Locate slow mathematical operations such as square roots, trigonometric functions, and so on, or anything that is not an addition or subtraction.\n",
    "- Shrink the size of key data structures.\n",
    "- Determine the precision (float, double, int, uint8, and so on) of often used variables.\n",
    "- Avoid unnecessary calculations when possible.\n",
    "- Attempt to simplify mathematical equations.\n",
    "\n",
    "https://wiki.python.org/moin/PythonSpeed/PerformanceTips\n",
    "1. Get it right.\n",
    "2. Test it's right.\n",
    "3. Profile if slow.\n",
    "4. Optimise.\n",
    "6. Repeat from 2.\n",
    "\n",
    "If there’s a for-loop over an array, there’s a good chance we can replace it with some built-in Numpy function"
   ]
  },
  {
   "cell_type": "markdown",
   "id": "ca317e5d",
   "metadata": {},
   "source": [
    "## Pętla for vs. list comprehension"
   ]
  },
  {
   "cell_type": "code",
   "execution_count": 1,
   "id": "40bbe7ac",
   "metadata": {},
   "outputs": [],
   "source": [
    "import random"
   ]
  },
  {
   "cell_type": "markdown",
   "id": "0450523e",
   "metadata": {},
   "source": [
    "`['5', 'w', ';', '3', 'O', 'A', 'j', 'X', 'E', 'F']`"
   ]
  },
  {
   "cell_type": "markdown",
   "id": "a9f6538f",
   "metadata": {},
   "source": [
    "r - ile serii\n",
    "\n",
    "n - liczba powtórzeń w 1 serii"
   ]
  },
  {
   "cell_type": "code",
   "execution_count": 10,
   "id": "32382ec7",
   "metadata": {},
   "outputs": [
    {
     "name": "stdout",
     "output_type": "stream",
     "text": [
      "699 ms ± 4.36 ms per loop (mean ± std. dev. of 2 runs, 3 loops each)\n"
     ]
    }
   ],
   "source": [
    "%%timeit -r 2 -n 3\n",
    "letters = []\n",
    "for n in range(0, 1_000_000):\n",
    "    letters.append(chr(random.randint(48, 122)))"
   ]
  },
  {
   "cell_type": "code",
   "execution_count": 12,
   "id": "708da8b4",
   "metadata": {},
   "outputs": [
    {
     "name": "stdout",
     "output_type": "stream",
     "text": [
      "677 ms ± 9.22 ms per loop (mean ± std. dev. of 2 runs, 3 loops each)\n"
     ]
    }
   ],
   "source": [
    "%%timeit -r 2 -n 3\n",
    "letters = [chr(random.randint(48, 122)) for n in range(0, 1_000_000)]"
   ]
  },
  {
   "cell_type": "markdown",
   "id": "f8e9f76a",
   "metadata": {},
   "source": [
    "## Konkatenacja"
   ]
  },
  {
   "cell_type": "code",
   "execution_count": 13,
   "id": "0476faee",
   "metadata": {},
   "outputs": [],
   "source": [
    "letters = [chr(random.randint(48, 122)) for n in range(0, 1_000_000)]"
   ]
  },
  {
   "cell_type": "code",
   "execution_count": 16,
   "id": "6acdae40",
   "metadata": {},
   "outputs": [
    {
     "name": "stdout",
     "output_type": "stream",
     "text": [
      "74.2 ms ± 3.56 ms per loop (mean ± std. dev. of 5 runs, 5 loops each)\n"
     ]
    }
   ],
   "source": [
    "%%timeit -r 5 -n 5\n",
    "my_str = ''\n",
    "for letter in letters:\n",
    "    my_str += letter  # stringi są niemutowalne i za każdym razem robi się nowy napis w pamięci..."
   ]
  },
  {
   "cell_type": "code",
   "execution_count": 18,
   "id": "d9bd2576",
   "metadata": {},
   "outputs": [
    {
     "name": "stdout",
     "output_type": "stream",
     "text": [
      "6.27 ms ± 1.19 ms per loop (mean ± std. dev. of 5 runs, 5 loops each)\n"
     ]
    }
   ],
   "source": [
    "%%timeit -r 5 -n 5\n",
    "my_str = ''.join(letters)"
   ]
  },
  {
   "cell_type": "code",
   "execution_count": 20,
   "id": "da7ddf49",
   "metadata": {},
   "outputs": [
    {
     "name": "stdout",
     "output_type": "stream",
     "text": [
      "The slowest run took 11.46 times longer than the fastest. This could mean that an intermediate result is being cached.\n",
      "1.62 µs ± 1.72 µs per loop (mean ± std. dev. of 100 runs, 100 loops each)\n"
     ]
    }
   ],
   "source": [
    "%%timeit -r 100 -n 100\n",
    "first_name = 'Piotr'\n",
    "last_name = 'GG'\n",
    "age = 18\n",
    "my_str = 'First name: ' + first_name + ' last name: ' + last_name + ' age: ' + str(age)"
   ]
  },
  {
   "cell_type": "code",
   "execution_count": 22,
   "id": "20a8ec29",
   "metadata": {},
   "outputs": [
    {
     "name": "stdout",
     "output_type": "stream",
     "text": [
      "The slowest run took 49.97 times longer than the fastest. This could mean that an intermediate result is being cached.\n",
      "866 ns ± 2.35 µs per loop (mean ± std. dev. of 100 runs, 100 loops each)\n"
     ]
    }
   ],
   "source": [
    "%%timeit -r 100 -n 100\n",
    "first_name = 'Piotr'\n",
    "last_name = 'GG'\n",
    "age = 18\n",
    "my_str = f'First name: {first_name} last name: {last_name} age: {age}'"
   ]
  },
  {
   "cell_type": "markdown",
   "id": "3ebe0801",
   "metadata": {},
   "source": [
    "## Testowanie warunków"
   ]
  },
  {
   "cell_type": "code",
   "execution_count": 28,
   "id": "2e6ccfc7",
   "metadata": {},
   "outputs": [
    {
     "name": "stdout",
     "output_type": "stream",
     "text": [
      "The slowest run took 73.86 times longer than the fastest. This could mean that an intermediate result is being cached.\n",
      "47.4 ns ± 87.7 ns per loop (mean ± std. dev. of 1000 runs, 1000 loops each)\n"
     ]
    }
   ],
   "source": [
    "%%timeit -r 1000 -n 1000\n",
    "my_str = 'Hello world!'\n",
    "\n",
    "if my_str != None:\n",
    "    pass\n",
    "else:\n",
    "    pass"
   ]
  },
  {
   "cell_type": "code",
   "execution_count": 29,
   "id": "f52261dc",
   "metadata": {},
   "outputs": [
    {
     "name": "stdout",
     "output_type": "stream",
     "text": [
      "37.8 ns ± 40.7 ns per loop (mean ± std. dev. of 1000 runs, 1000 loops each)\n"
     ]
    }
   ],
   "source": [
    "%%timeit -r 1000 -n 1000\n",
    "my_str = 'Hello world!'\n",
    "\n",
    "if my_str:\n",
    "    pass\n",
    "else:\n",
    "    pass"
   ]
  },
  {
   "cell_type": "markdown",
   "id": "8924875a",
   "metadata": {},
   "source": [
    "## NumPy / Pandas"
   ]
  },
  {
   "cell_type": "code",
   "execution_count": 30,
   "id": "3e89e40a",
   "metadata": {},
   "outputs": [],
   "source": [
    "import numpy as np\n",
    "import pandas as pd"
   ]
  },
  {
   "cell_type": "code",
   "execution_count": 32,
   "id": "43d1be17",
   "metadata": {},
   "outputs": [
    {
     "name": "stdout",
     "output_type": "stream",
     "text": [
      "61.8 ms ± 3.18 ms per loop (mean ± std. dev. of 5 runs, 5 loops each)\n"
     ]
    }
   ],
   "source": [
    "%%timeit -r 5 -n 5\n",
    "numbers = [i * 1000 for i in range(0, 1_000_000)]"
   ]
  },
  {
   "cell_type": "code",
   "execution_count": 35,
   "id": "4425d584",
   "metadata": {},
   "outputs": [
    {
     "name": "stdout",
     "output_type": "stream",
     "text": [
      "29.3 ms ± 1.56 ms per loop (mean ± std. dev. of 5 runs, 5 loops each)\n"
     ]
    }
   ],
   "source": [
    "%%timeit -r 5 -n 5\n",
    "np.random.randn(1_000_000) * 1000"
   ]
  },
  {
   "cell_type": "code",
   "execution_count": 36,
   "id": "fd67d953",
   "metadata": {},
   "outputs": [
    {
     "data": {
      "text/plain": [
       "0                 0\n",
       "1              1000\n",
       "2              2000\n",
       "3              3000\n",
       "4              4000\n",
       "            ...    \n",
       "999995    999995000\n",
       "999996    999996000\n",
       "999997    999997000\n",
       "999998    999998000\n",
       "999999    999999000\n",
       "Length: 1000000, dtype: int64"
      ]
     },
     "execution_count": 36,
     "metadata": {},
     "output_type": "execute_result"
    }
   ],
   "source": [
    "s = pd.Series(numbers)\n",
    "s"
   ]
  },
  {
   "cell_type": "code",
   "execution_count": 38,
   "id": "8816645f",
   "metadata": {},
   "outputs": [
    {
     "name": "stdout",
     "output_type": "stream",
     "text": [
      "137 ms ± 2.76 ms per loop (mean ± std. dev. of 5 runs, 5 loops each)\n"
     ]
    }
   ],
   "source": [
    "%%timeit -r 5 -n 5\n",
    "s.apply(lambda number: number / 1_000_000)"
   ]
  },
  {
   "cell_type": "code",
   "execution_count": 39,
   "id": "5f81173c",
   "metadata": {},
   "outputs": [
    {
     "name": "stdout",
     "output_type": "stream",
     "text": [
      "1.28 ms ± 810 µs per loop (mean ± std. dev. of 5 runs, 5 loops each)\n"
     ]
    }
   ],
   "source": [
    "%%timeit -r 5 -n 5\n",
    "s / 1_000_000"
   ]
  },
  {
   "cell_type": "code",
   "execution_count": null,
   "id": "8b422554",
   "metadata": {},
   "outputs": [],
   "source": []
  }
 ],
 "metadata": {
  "kernelspec": {
   "display_name": "Python 3.9.7 64-bit ('base': conda)",
   "language": "python",
   "name": "python397jvsc74a57bd040d3a090f54c6569ab1632332b64b2c03c39dcf918b08424e98f38b5ae0af88f"
  },
  "language_info": {
   "codemirror_mode": {
    "name": "ipython",
    "version": 3
   },
   "file_extension": ".py",
   "mimetype": "text/x-python",
   "name": "python",
   "nbconvert_exporter": "python",
   "pygments_lexer": "ipython3",
   "version": "3.9.7"
  }
 },
 "nbformat": 4,
 "nbformat_minor": 5
}
